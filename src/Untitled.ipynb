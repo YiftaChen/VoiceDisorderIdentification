{
 "cells": [
  {
   "cell_type": "code",
   "execution_count": 6,
   "id": "d81335f3-4f33-4c71-9f74-cc635436d956",
   "metadata": {},
   "outputs": [
    {
     "name": "stdout",
     "output_type": "stream",
     "text": [
      "The autoreload extension is already loaded. To reload it, use:\n",
      "  %reload_ext autoreload\n"
     ]
    }
   ],
   "source": [
    "import matplotlib.pyplot as plt\n",
    "import numpy as np\n",
    "import soundfile as sf\n",
    "import torch\n",
    "\n",
    "from transformations.transform import WaveformToInput as TorchTransform\n",
    "from architecture.backend.yamnet.params import YAMNetParams\n",
    "from architecture.backend.yamnet.model import yamnet\n",
    "from architecture.backend.yamnet.model import yamnet_category_metadata\n",
    "\n",
    "from architecture.classifier.classification import Classifier\n",
    "\n",
    "from datasets.SvdExDataset import SvdCutOffShort\n",
    "from IPython.lib.display import Audio\n",
    "\n",
    "%load_ext autoreload\n",
    "%autoreload 2"
   ]
  },
  {
   "cell_type": "code",
   "execution_count": 71,
   "id": "e35f4cee-7cd0-4f28-bc47-44feb720d603",
   "metadata": {},
   "outputs": [
    {
     "ename": "RuntimeError",
     "evalue": "expected scalar type Double but found Float",
     "output_type": "error",
     "traceback": [
      "\u001b[0;31m---------------------------------------------------------------------------\u001b[0m",
      "\u001b[0;31mRuntimeError\u001b[0m                              Traceback (most recent call last)",
      "Input \u001b[0;32mIn [71]\u001b[0m, in \u001b[0;36m<cell line: 15>\u001b[0;34m()\u001b[0m\n\u001b[1;32m     13\u001b[0m signal\u001b[38;5;241m=\u001b[39mnp\u001b[38;5;241m.\u001b[39mconcatenate((waveforms,noise),axis\u001b[38;5;241m=\u001b[39m\u001b[38;5;241m1\u001b[39m)\n\u001b[1;32m     14\u001b[0m waveform_for_torch \u001b[38;5;241m=\u001b[39m torch\u001b[38;5;241m.\u001b[39mtensor(signal)\n\u001b[0;32m---> 15\u001b[0m patches, spectrogram \u001b[38;5;241m=\u001b[39m \u001b[43mTorchTransform\u001b[49m\u001b[43m(\u001b[49m\u001b[43m)\u001b[49m\u001b[38;5;241;43m.\u001b[39;49m\u001b[43mwavform_to_log_mel\u001b[49m\u001b[43m(\u001b[49m\u001b[43mwaveform_for_torch\u001b[49m\u001b[43m,\u001b[49m\u001b[43m \u001b[49m\u001b[38;5;241;43m44100\u001b[39;49m\u001b[43m)\u001b[49m\n\u001b[1;32m     16\u001b[0m patches\u001b[38;5;241m.\u001b[39mshape\n",
      "File \u001b[0;32m~/Development/VoiceDisorderIdentification/src/transformations/transform.py:95\u001b[0m, in \u001b[0;36mWaveformToInput.wavform_to_log_mel\u001b[0;34m(self, waveform, sample_rate)\u001b[0m\n\u001b[1;32m     93\u001b[0m x \u001b[38;5;241m=\u001b[39m waveform\u001b[38;5;241m.\u001b[39mmean(axis\u001b[38;5;241m=\u001b[39m\u001b[38;5;241m0\u001b[39m, keepdims\u001b[38;5;241m=\u001b[39m\u001b[38;5;28;01mTrue\u001b[39;00m)  \u001b[38;5;66;03m# average over channels\u001b[39;00m\n\u001b[1;32m     94\u001b[0m resampler \u001b[38;5;241m=\u001b[39m ta_trans\u001b[38;5;241m.\u001b[39mResample(sample_rate, CommonParams\u001b[38;5;241m.\u001b[39mTARGET_SAMPLE_RATE)\n\u001b[0;32m---> 95\u001b[0m x \u001b[38;5;241m=\u001b[39m \u001b[43mresampler\u001b[49m\u001b[43m(\u001b[49m\u001b[43mx\u001b[49m\u001b[43m)\u001b[49m\n\u001b[1;32m     96\u001b[0m x \u001b[38;5;241m=\u001b[39m \u001b[38;5;28mself\u001b[39m\u001b[38;5;241m.\u001b[39mmel_trans_ope(x)\n\u001b[1;32m     97\u001b[0m x \u001b[38;5;241m=\u001b[39m x\u001b[38;5;241m.\u001b[39msqueeze(dim\u001b[38;5;241m=\u001b[39m\u001b[38;5;241m0\u001b[39m)\u001b[38;5;241m.\u001b[39mT  \u001b[38;5;66;03m# # [1, C, T] -> [T, C]\u001b[39;00m\n",
      "File \u001b[0;32m~/miniforge3/envs/deep-learn/lib/python3.8/site-packages/torch/nn/modules/module.py:1102\u001b[0m, in \u001b[0;36mModule._call_impl\u001b[0;34m(self, *input, **kwargs)\u001b[0m\n\u001b[1;32m   1098\u001b[0m \u001b[38;5;66;03m# If we don't have any hooks, we want to skip the rest of the logic in\u001b[39;00m\n\u001b[1;32m   1099\u001b[0m \u001b[38;5;66;03m# this function, and just call forward.\u001b[39;00m\n\u001b[1;32m   1100\u001b[0m \u001b[38;5;28;01mif\u001b[39;00m \u001b[38;5;129;01mnot\u001b[39;00m (\u001b[38;5;28mself\u001b[39m\u001b[38;5;241m.\u001b[39m_backward_hooks \u001b[38;5;129;01mor\u001b[39;00m \u001b[38;5;28mself\u001b[39m\u001b[38;5;241m.\u001b[39m_forward_hooks \u001b[38;5;129;01mor\u001b[39;00m \u001b[38;5;28mself\u001b[39m\u001b[38;5;241m.\u001b[39m_forward_pre_hooks \u001b[38;5;129;01mor\u001b[39;00m _global_backward_hooks\n\u001b[1;32m   1101\u001b[0m         \u001b[38;5;129;01mor\u001b[39;00m _global_forward_hooks \u001b[38;5;129;01mor\u001b[39;00m _global_forward_pre_hooks):\n\u001b[0;32m-> 1102\u001b[0m     \u001b[38;5;28;01mreturn\u001b[39;00m \u001b[43mforward_call\u001b[49m\u001b[43m(\u001b[49m\u001b[38;5;241;43m*\u001b[39;49m\u001b[38;5;28;43minput\u001b[39;49m\u001b[43m,\u001b[49m\u001b[43m \u001b[49m\u001b[38;5;241;43m*\u001b[39;49m\u001b[38;5;241;43m*\u001b[39;49m\u001b[43mkwargs\u001b[49m\u001b[43m)\u001b[49m\n\u001b[1;32m   1103\u001b[0m \u001b[38;5;66;03m# Do not call functions when jit is used\u001b[39;00m\n\u001b[1;32m   1104\u001b[0m full_backward_hooks, non_full_backward_hooks \u001b[38;5;241m=\u001b[39m [], []\n",
      "File \u001b[0;32m~/Development/audio/audio/torchaudio/transforms/_transforms.py:954\u001b[0m, in \u001b[0;36mResample.forward\u001b[0;34m(self, waveform)\u001b[0m\n\u001b[1;32m    952\u001b[0m \u001b[38;5;28;01mif\u001b[39;00m \u001b[38;5;28mself\u001b[39m\u001b[38;5;241m.\u001b[39morig_freq \u001b[38;5;241m==\u001b[39m \u001b[38;5;28mself\u001b[39m\u001b[38;5;241m.\u001b[39mnew_freq:\n\u001b[1;32m    953\u001b[0m     \u001b[38;5;28;01mreturn\u001b[39;00m waveform\n\u001b[0;32m--> 954\u001b[0m \u001b[38;5;28;01mreturn\u001b[39;00m \u001b[43m_apply_sinc_resample_kernel\u001b[49m\u001b[43m(\u001b[49m\u001b[43mwaveform\u001b[49m\u001b[43m,\u001b[49m\u001b[43m \u001b[49m\u001b[38;5;28;43mself\u001b[39;49m\u001b[38;5;241;43m.\u001b[39;49m\u001b[43morig_freq\u001b[49m\u001b[43m,\u001b[49m\u001b[43m \u001b[49m\u001b[38;5;28;43mself\u001b[39;49m\u001b[38;5;241;43m.\u001b[39;49m\u001b[43mnew_freq\u001b[49m\u001b[43m,\u001b[49m\u001b[43m \u001b[49m\u001b[38;5;28;43mself\u001b[39;49m\u001b[38;5;241;43m.\u001b[39;49m\u001b[43mgcd\u001b[49m\u001b[43m,\u001b[49m\u001b[43m \u001b[49m\u001b[38;5;28;43mself\u001b[39;49m\u001b[38;5;241;43m.\u001b[39;49m\u001b[43mkernel\u001b[49m\u001b[43m,\u001b[49m\u001b[43m \u001b[49m\u001b[38;5;28;43mself\u001b[39;49m\u001b[38;5;241;43m.\u001b[39;49m\u001b[43mwidth\u001b[49m\u001b[43m)\u001b[49m\n",
      "File \u001b[0;32m~/Development/audio/audio/torchaudio/functional/functional.py:1496\u001b[0m, in \u001b[0;36m_apply_sinc_resample_kernel\u001b[0;34m(waveform, orig_freq, new_freq, gcd, kernel, width)\u001b[0m\n\u001b[1;32m   1494\u001b[0m num_wavs, length \u001b[38;5;241m=\u001b[39m waveform\u001b[38;5;241m.\u001b[39mshape\n\u001b[1;32m   1495\u001b[0m waveform \u001b[38;5;241m=\u001b[39m torch\u001b[38;5;241m.\u001b[39mnn\u001b[38;5;241m.\u001b[39mfunctional\u001b[38;5;241m.\u001b[39mpad(waveform, (width, width \u001b[38;5;241m+\u001b[39m orig_freq))\n\u001b[0;32m-> 1496\u001b[0m resampled \u001b[38;5;241m=\u001b[39m \u001b[43mtorch\u001b[49m\u001b[38;5;241;43m.\u001b[39;49m\u001b[43mnn\u001b[49m\u001b[38;5;241;43m.\u001b[39;49m\u001b[43mfunctional\u001b[49m\u001b[38;5;241;43m.\u001b[39;49m\u001b[43mconv1d\u001b[49m\u001b[43m(\u001b[49m\u001b[43mwaveform\u001b[49m\u001b[43m[\u001b[49m\u001b[43m:\u001b[49m\u001b[43m,\u001b[49m\u001b[43m \u001b[49m\u001b[38;5;28;43;01mNone\u001b[39;49;00m\u001b[43m]\u001b[49m\u001b[43m,\u001b[49m\u001b[43m \u001b[49m\u001b[43mkernel\u001b[49m\u001b[43m,\u001b[49m\u001b[43m \u001b[49m\u001b[43mstride\u001b[49m\u001b[38;5;241;43m=\u001b[39;49m\u001b[43morig_freq\u001b[49m\u001b[43m)\u001b[49m\n\u001b[1;32m   1497\u001b[0m resampled \u001b[38;5;241m=\u001b[39m resampled\u001b[38;5;241m.\u001b[39mtranspose(\u001b[38;5;241m1\u001b[39m, \u001b[38;5;241m2\u001b[39m)\u001b[38;5;241m.\u001b[39mreshape(num_wavs, \u001b[38;5;241m-\u001b[39m\u001b[38;5;241m1\u001b[39m)\n\u001b[1;32m   1498\u001b[0m target_length \u001b[38;5;241m=\u001b[39m \u001b[38;5;28mint\u001b[39m(math\u001b[38;5;241m.\u001b[39mceil(new_freq \u001b[38;5;241m*\u001b[39m length \u001b[38;5;241m/\u001b[39m orig_freq))\n",
      "\u001b[0;31mRuntimeError\u001b[0m: expected scalar type Double but found Float"
     ]
    }
   ],
   "source": [
    "def sf_load_from_int16(fname):\n",
    "    x, sr = sf.read(fname, dtype='int16', always_2d=True)\n",
    "    x = x / 2 ** 15\n",
    "    x = x.T.astype(np.float32)\n",
    "    return x, sr\n",
    "\n",
    "\n",
    "waveforms, sr = sf_load_from_int16('2485-i_l.wav')\n",
    "mean = waveforms.mean(axis=1)\n",
    "variance = waveforms.var(axis=1)\n",
    "noise = np.random.normal(mean,variance,50000-waveforms.shape[1])/10\n",
    "noise = noise.reshape(1,noise.shape[0])\n",
    "signal=np.concatenate((waveforms,noise),axis=1)\n",
    "waveform_for_torch = torch.tensor(signal)\n",
    "patches, spectrogram = TorchTransform().wavform_to_log_mel(waveform_for_torch, 44100)\n",
    "patches.shape\n"
   ]
  },
  {
   "cell_type": "code",
   "execution_count": 70,
   "id": "2198f4a3-6cb9-4530-9612-dbd33fa62721",
   "metadata": {},
   "outputs": [
    {
     "name": "stdout",
     "output_type": "stream",
     "text": [
      "[[[7.36551786e-03 2.63029324e-03 4.08013781e-03 ... 2.18742898e-08\n",
      "   1.55901064e-07 1.14845799e-10]\n",
      "  [8.73532872e-01 1.67795450e-01 8.16124348e-01 ... 1.02674091e-06\n",
      "   6.56418328e-07 1.86546010e-06]\n",
      "  [1.08253161e-01 5.43740112e-02 7.37593606e-02 ... 3.97664030e-06\n",
      "   3.85971188e-07 7.40170649e-07]\n",
      "  ...\n",
      "  [1.43044996e-08 2.00216036e-07 4.89723644e-08 ... 5.02833565e-07\n",
      "   2.15622322e-06 4.39855359e-07]\n",
      "  [1.18279579e-07 1.36103163e-07 4.54418373e-08 ... 2.40576151e-06\n",
      "   2.79630030e-07 7.43766393e-07]\n",
      "  [3.79336597e-08 8.76337493e-11 9.28054467e-09 ... 5.78130393e-08\n",
      "   9.99445703e-08 4.82095910e-07]]]\n"
     ]
    },
    {
     "data": {
      "text/plain": [
       "(0.0, 2e-05)"
      ]
     },
     "execution_count": 70,
     "metadata": {},
     "output_type": "execute_result"
    },
    {
     "data": {
      "image/png": "[encoded data removed]",
      "text/plain": [
       "<Figure size 432x288 with 1 Axes>"
      ]
     },
     "metadata": {
      "needs_background": "light"
     },
     "output_type": "display_data"
    }
   ],
   "source": [
    "from scipy.signal import spectrogram\n",
    "spec = spectrogram(signal)\n",
    "print(spec[2])\n",
    "spec = spec[2][0,:,:]\n",
    "\n",
    "# extent = (0, spec.shape[0], -0.5, spec.shape[1] - 0.5)\n",
    "plt.imshow(spec.T, aspect='auto', interpolation='nearest', origin='lower')\n",
    "plt.xlim([0, len(signal) / sr ])\n",
    "\n"
   ]
  }
 ],
 "metadata": {
  "kernelspec": {
   "display_name": "Python 3 (ipykernel)",
   "language": "python",
   "name": "python3"
  },
  "language_info": {
   "codemirror_mode": {
    "name": "ipython",
    "version": 3
   },
   "file_extension": ".py",
   "mimetype": "text/x-python",
   "name": "python",
   "nbconvert_exporter": "python",
   "pygments_lexer": "ipython3",
   "version": "3.8.13"
  }
 },
 "nbformat": 4,
 "nbformat_minor": 5
}
