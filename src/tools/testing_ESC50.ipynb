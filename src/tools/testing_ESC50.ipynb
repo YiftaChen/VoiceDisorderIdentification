{
 "cells": [
  {
   "cell_type": "code",
   "execution_count": 1,
   "metadata": {},
   "outputs": [
    {
     "data": {
      "text/plain": [
       "{'data': array([-12, -23, -26, ..., 104,  73,  52], dtype=int16),\n",
       " 'sampling_rate': 44100,\n",
       " 'classification': 19}"
      ]
     },
     "execution_count": 1,
     "metadata": {},
     "output_type": "execute_result"
    }
   ],
   "source": [
    "from datasets.ESC50Dataset import ESC50Dataset\n",
    "\n",
    "ds = ESC50Dataset('/home/chenka@staff.technion.ac.il/ESC-50-master/audio')\n",
    "\n",
    "i = ds.__getitem__(4)\n",
    "\n",
    "i\n",
    "\n"
   ]
  },
  {
   "cell_type": "code",
   "execution_count": 9,
   "metadata": {},
   "outputs": [
    {
     "data": {
      "text/plain": [
       "(2000, 1)"
      ]
     },
     "execution_count": 9,
     "metadata": {},
     "output_type": "execute_result"
    }
   ],
   "source": [
    "a.shape"
   ]
  },
  {
   "cell_type": "code",
   "execution_count": 1,
   "metadata": {},
   "outputs": [],
   "source": [
    "import matplotlib.pyplot as plt\n",
    "import numpy as np\n",
    "import soundfile as sf\n",
    "import torch\n",
    "\n",
    "from transformations.transform import WaveformToInput as TorchTransform\n",
    "from architecture.backend.yamnet.params import YAMNetParams\n",
    "from architecture.backend.yamnet.model import yamnet\n",
    "from architecture.backend.yamnet.model import yamnet_category_metadata\n",
    "\n",
    "from architecture.classifier.classification import Classifier\n",
    "\n",
    "from datasets.SvdExDataset import SvdCutOffShort,SvdExtendedVoiceDataset\n",
    "import trainer.train_svd as svd_trainer\n",
    "import torch.nn as nn\n",
    "import torch.optim \n",
    "from ray import tune\n",
    "import pickle\n"
   ]
  },
  {
   "cell_type": "code",
   "execution_count": null,
   "metadata": {},
   "outputs": [],
   "source": [
    "\n",
    "dataset = SvdExtendedVoiceDataset(r\"/home/yiftach.ede@staff.technion.ac.il/data/SVD\",classification_binary=True)\n",
    "\n",
    "def train_model(config):\n",
    "    print(f'test config: {config}')\n",
    "    model = Classifier(config[\"mlp_layers\"],activation=nn.LeakyReLU(negative_slope=0.01),freeze_backend_grad=False)    \n",
    "    loss = nn.BCEWithLogitsLoss()\n",
    "    # params_non_frozen = filter(lambda p: p.requires_grad, model.parameters())\n",
    "    opt = torch.optim.Adam(\n",
    "        [\n",
    "            dict(params=model.classifier.parameters()),\n",
    "            dict(params=model.backend.layer14.parameters(),lr=config['lr']*0.01),\n",
    "            # dict(params=model.backend.layer13.parameters(),lr=config['lr']*0.001),\n",
    "            # dict(params=model.backend.layer12.parameters(),lr=config['lr']*0.01),\n",
    "            # dict(params=model.backend.layer11.parameters(),lr=config['lr']*0.01),\n",
    "        ]\n",
    "        ,lr=config[\"lr\"])\n",
    "    hyper_params = {\n",
    "        'train_batch_size':128,\n",
    "        'vald_batch_size':128,\n",
    "        'test_batch_size':128,\n",
    "        'num_workers':2,\n",
    "        'epochs':200\n",
    "    }\n",
    "    trainer = svd_trainer.Trainer(dataset=dataset,model=model,optimizers=opt,critereon=loss,hyper_params=hyper_params,verbose=False)\n",
    "    model = trainer.train()\n",
    "    \n",
    "\n",
    "\n",
    "config={\n",
    "    'lr':tune.grid_search([1e-2,1e-3]),\n",
    "    'mlp_layers':[tune.grid_search([512,256,128])]\n",
    "    # 'mlp_layers':[512]\n",
    "    # 'activation':nn.LeakyReLU(negative_slope=0.01)\n",
    "    }\n",
    "analysis = tune.run(train_model,config=config,resources_per_trial={'gpu':1},verbose=False)\n",
    "\n",
    "\n",
    "# config={\n",
    "#     'lr':0.01,\n",
    "#     'mlp_layers':[512,128]\n",
    "# }\n",
    "# train_model(config)\n",
    "\n",
    "# with open('analysisFile','wb') as a_file:\n",
    "#     pickle.dump(analysis,a_file)"
   ]
  }
 ],
 "metadata": {
  "interpreter": {
   "hash": "6d213c2aaf104d79dc69cea7841b9239703446d03b5d9881128cd1fc29cd49aa"
  },
  "kernelspec": {
   "display_name": "Python 3.9.12 ('VoiceDeep')",
   "language": "python",
   "name": "python3"
  },
  "language_info": {
   "codemirror_mode": {
    "name": "ipython",
    "version": 3
   },
   "file_extension": ".py",
   "mimetype": "text/x-python",
   "name": "python",
   "nbconvert_exporter": "python",
   "pygments_lexer": "ipython3",
   "version": "3.9.12"
  },
  "orig_nbformat": 4
 },
 "nbformat": 4,
 "nbformat_minor": 2
}
