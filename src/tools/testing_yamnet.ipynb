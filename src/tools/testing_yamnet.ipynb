{
 "cells": [
  {
   "cell_type": "code",
   "execution_count": 30,
   "metadata": {},
   "outputs": [
    {
     "name": "stdout",
     "output_type": "stream",
     "text": [
      "The autoreload extension is already loaded. To reload it, use:\n",
      "  %reload_ext autoreload\n"
     ]
    }
   ],
   "source": [
    "import matplotlib.pyplot as plt\n",
    "import numpy as np\n",
    "import soundfile as sf\n",
    "import torch\n",
    "\n",
    "from datasets.transformations.torch_input_processing import WaveformToInput as TorchTransform\n",
    "from architecture.backend.yamnet.params import YAMNetParams\n",
    "from architecture.backend.yamnet.model import yamnet\n",
    "from architecture.backend.yamnet.model import yamnet_category_metadata\n",
    "%load_ext autoreload\n",
    "%autoreload 2\n"
   ]
  },
  {
   "cell_type": "code",
   "execution_count": 32,
   "metadata": {},
   "outputs": [
    {
     "data": {
      "text/plain": [
       "torch.Size([0, 1, 96, 64])"
      ]
     },
     "execution_count": 32,
     "metadata": {},
     "output_type": "execute_result"
    }
   ],
   "source": [
    "def sf_load_from_int16(fname):\n",
    "    x, sr = sf.read(fname, dtype='int16', always_2d=True)\n",
    "    x = x / 2 ** 15\n",
    "    x = x.T.astype(np.float32)\n",
    "    return x, sr\n",
    "\n",
    "\n",
    "waveforms, sr = sf_load_from_int16('2396-i_h.wav')\n",
    "# waveforms = np.concatenate((waveforms,waveforms),axis=1)\n",
    "waveform = waveforms[0]\n",
    "waveform_for_torch = torch.tensor(waveforms)\n",
    "patches, spectrogram = TorchTransform().wavform_to_log_mel(waveform_for_torch, 50000)\n",
    "patches.shape\n",
    "\n",
    "\n"
   ]
  },
  {
   "cell_type": "code",
   "execution_count": 33,
   "metadata": {},
   "outputs": [
    {
     "ename": "RuntimeError",
     "evalue": "cannot reshape tensor of 0 elements into shape [0, -1] because the unspecified dimension size -1 can be any value and is ambiguous",
     "output_type": "error",
     "traceback": [
      "\u001b[0;31m---------------------------------------------------------------------------\u001b[0m",
      "\u001b[0;31mRuntimeError\u001b[0m                              Traceback (most recent call last)",
      "Input \u001b[0;32mIn [33]\u001b[0m, in \u001b[0;36m<cell line: 2>\u001b[0;34m()\u001b[0m\n\u001b[1;32m      4\u001b[0m     \u001b[38;5;66;03m# x = torch.from_numpy(patches)\u001b[39;00m\n\u001b[1;32m      5\u001b[0m     \u001b[38;5;66;03m# x = x.unsqueeze(1)  # [5, 96, 64] -> [5, 1, 96, 64]\u001b[39;00m\n\u001b[1;32m      6\u001b[0m     x \u001b[38;5;241m=\u001b[39m patches\n\u001b[0;32m----> 7\u001b[0m     pt_pred \u001b[38;5;241m=\u001b[39m \u001b[43mpt_model\u001b[49m\u001b[43m(\u001b[49m\u001b[43mx\u001b[49m\u001b[43m,\u001b[49m\u001b[43m \u001b[49m\u001b[43mto_prob\u001b[49m\u001b[38;5;241;43m=\u001b[39;49m\u001b[38;5;28;43;01mTrue\u001b[39;49;00m\u001b[43m)\u001b[49m\n\u001b[1;32m      8\u001b[0m     pt_pred \u001b[38;5;241m=\u001b[39m pt_pred\u001b[38;5;241m.\u001b[39mnumpy()\n\u001b[1;32m     10\u001b[0m scores \u001b[38;5;241m=\u001b[39m pt_pred\n",
      "File \u001b[0;32m~/miniforge3/envs/deep-learn/lib/python3.8/site-packages/torch/nn/modules/module.py:1102\u001b[0m, in \u001b[0;36mModule._call_impl\u001b[0;34m(self, *input, **kwargs)\u001b[0m\n\u001b[1;32m   1098\u001b[0m \u001b[38;5;66;03m# If we don't have any hooks, we want to skip the rest of the logic in\u001b[39;00m\n\u001b[1;32m   1099\u001b[0m \u001b[38;5;66;03m# this function, and just call forward.\u001b[39;00m\n\u001b[1;32m   1100\u001b[0m \u001b[38;5;28;01mif\u001b[39;00m \u001b[38;5;129;01mnot\u001b[39;00m (\u001b[38;5;28mself\u001b[39m\u001b[38;5;241m.\u001b[39m_backward_hooks \u001b[38;5;129;01mor\u001b[39;00m \u001b[38;5;28mself\u001b[39m\u001b[38;5;241m.\u001b[39m_forward_hooks \u001b[38;5;129;01mor\u001b[39;00m \u001b[38;5;28mself\u001b[39m\u001b[38;5;241m.\u001b[39m_forward_pre_hooks \u001b[38;5;129;01mor\u001b[39;00m _global_backward_hooks\n\u001b[1;32m   1101\u001b[0m         \u001b[38;5;129;01mor\u001b[39;00m _global_forward_hooks \u001b[38;5;129;01mor\u001b[39;00m _global_forward_pre_hooks):\n\u001b[0;32m-> 1102\u001b[0m     \u001b[38;5;28;01mreturn\u001b[39;00m \u001b[43mforward_call\u001b[49m\u001b[43m(\u001b[49m\u001b[38;5;241;43m*\u001b[39;49m\u001b[38;5;28;43minput\u001b[39;49m\u001b[43m,\u001b[49m\u001b[43m \u001b[49m\u001b[38;5;241;43m*\u001b[39;49m\u001b[38;5;241;43m*\u001b[39;49m\u001b[43mkwargs\u001b[49m\u001b[43m)\u001b[49m\n\u001b[1;32m   1103\u001b[0m \u001b[38;5;66;03m# Do not call functions when jit is used\u001b[39;00m\n\u001b[1;32m   1104\u001b[0m full_backward_hooks, non_full_backward_hooks \u001b[38;5;241m=\u001b[39m [], []\n",
      "File \u001b[0;32m~/Development/VoiceDisorderIdentification/src/architecture/backend/yamnet/model.py:153\u001b[0m, in \u001b[0;36mYAMNet.forward\u001b[0;34m(self, x, to_prob)\u001b[0m\n\u001b[1;32m    151\u001b[0m     x \u001b[38;5;241m=\u001b[39m mod(x)\n\u001b[1;32m    152\u001b[0m x \u001b[38;5;241m=\u001b[39m F\u001b[38;5;241m.\u001b[39madaptive_avg_pool2d(x, \u001b[38;5;241m1\u001b[39m)\n\u001b[0;32m--> 153\u001b[0m x \u001b[38;5;241m=\u001b[39m \u001b[43mx\u001b[49m\u001b[38;5;241;43m.\u001b[39;49m\u001b[43mreshape\u001b[49m\u001b[43m(\u001b[49m\u001b[43mx\u001b[49m\u001b[38;5;241;43m.\u001b[39;49m\u001b[43mshape\u001b[49m\u001b[43m[\u001b[49m\u001b[38;5;241;43m0\u001b[39;49m\u001b[43m]\u001b[49m\u001b[43m,\u001b[49m\u001b[43m \u001b[49m\u001b[38;5;241;43m-\u001b[39;49m\u001b[38;5;241;43m1\u001b[39;49m\u001b[43m)\u001b[49m\n\u001b[1;32m    154\u001b[0m x \u001b[38;5;241m=\u001b[39m \u001b[38;5;28mself\u001b[39m\u001b[38;5;241m.\u001b[39mclassifier(x)\n\u001b[1;32m    155\u001b[0m \u001b[38;5;28;01mif\u001b[39;00m to_prob:\n",
      "\u001b[0;31mRuntimeError\u001b[0m: cannot reshape tensor of 0 elements into shape [0, -1] because the unspecified dimension size -1 can be any value and is ambiguous"
     ]
    }
   ],
   "source": [
    "\n",
    "pt_model = yamnet(pretrained=True)\n",
    "with torch.no_grad():\n",
    "    pt_model.eval()\n",
    "    # x = torch.from_numpy(patches)\n",
    "    # x = x.unsqueeze(1)  # [5, 96, 64] -> [5, 1, 96, 64]\n",
    "    x = patches\n",
    "    pt_pred = pt_model(x, to_prob=True)\n",
    "    pt_pred = pt_pred.numpy()\n",
    "\n",
    "scores = pt_pred\n",
    "params = YAMNetParams()\n",
    "class_names = [x['name'] for x in yamnet_category_metadata()]\n",
    "\n",
    "# Visualize the results.\n",
    "plt.figure(figsize=(10, 8))\n",
    "\n",
    "# Plot the waveform.\n",
    "plt.subplot(3, 1, 1)\n",
    "plt.plot(waveform)\n",
    "plt.xlim([0, len(waveform)])\n",
    "# Plot the log-mel spectrogram (returned by the model).\n",
    "plt.subplot(3, 1, 2)\n",
    "extent = (0, spectrogram.shape[0], -0.5, spectrogram.shape[1] - 0.5)\n",
    "plt.imshow(spectrogram.T, aspect='auto', interpolation='nearest', origin='lower', extent=extent)\n",
    "plt.xlim([0, len(waveform) / sr / YAMNetParams.STFT_HOP_SECONDS])\n",
    "\n",
    "# Plot and label the model output scores for the top-scoring classes.\n",
    "mean_scores = np.mean(scores, axis=0)\n",
    "top_N = 10\n",
    "top_class_indices = np.argsort(mean_scores)[::-1][:top_N]\n",
    "\n",
    "plt.subplot(3, 1, 3)\n",
    "scores_top_class = scores[:, top_class_indices].T\n",
    "# https://matplotlib.org/stable/tutorials/intermediate/imshow_extent.html\n",
    "extent = (0, scores_top_class.shape[1] * YAMNetParams.PATCH_HOP_SECONDS, scores_top_class.shape[0] - 0.5, -0.5)\n",
    "plt.imshow(scores_top_class, aspect='auto', interpolation='nearest', cmap='gray_r', extent=extent)\n",
    "# TODO Compensate for the PATCH_WINDOW_SECONDS (0.96 s) context window to align with spectrogram.\n",
    "# patch_padding = (params.PATCH_WINDOW_SECONDS / 2) / params.PATCH_HOP_SECONDS\n",
    "# plt.xlim([-patch_padding, scores.shape[0] + patch_padding])\n",
    "plt.xlim([0, len(waveform) / sr])\n",
    "\n",
    "# Label the top_N classes.\n",
    "yticks = range(0, top_N, 1)\n",
    "plt.yticks(yticks, [class_names[top_class_indices[x]] for x in yticks])\n",
    "_ = plt.ylim(-0.5 + np.array([top_N, 0]))\n",
    "plt.show()\n",
    "\n",
    "\n"
   ]
  },
  {
   "cell_type": "code",
   "execution_count": null,
   "metadata": {},
   "outputs": [],
   "source": []
  },
  {
   "cell_type": "code",
   "execution_count": null,
   "metadata": {},
   "outputs": [],
   "source": []
  }
 ],
 "metadata": {
  "interpreter": {
   "hash": "e7f584364ec02e21a6383519ae9cf603396e56f04493ce04abf93d7d10019b6d"
  },
  "kernelspec": {
   "display_name": "Python 3 (ipykernel)",
   "language": "python",
   "name": "python3"
  },
  "language_info": {
   "codemirror_mode": {
    "name": "ipython",
    "version": 3
   },
   "file_extension": ".py",
   "mimetype": "text/x-python",
   "name": "python",
   "nbconvert_exporter": "python",
   "pygments_lexer": "ipython3",
   "version": "3.8.13"
  }
 },
 "nbformat": 4,
 "nbformat_minor": 4
}
