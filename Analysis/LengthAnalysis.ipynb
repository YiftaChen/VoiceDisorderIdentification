{
 "cells": [
  {
   "cell_type": "code",
   "execution_count": 2,
   "id": "b0243830-fb20-47e0-969f-3374b6dc0de9",
   "metadata": {},
   "outputs": [],
   "source": [
    "import matplotlib.pyplot as plt\n",
    "import seaborn as sns\n",
    "import json\n",
    "import pandas as pd\n",
    "\n"
   ]
  },
  {
   "cell_type": "code",
   "execution_count": 11,
   "id": "190baed8-678d-478c-a54a-43bd90701b59",
   "metadata": {},
   "outputs": [
    {
     "data": {
      "text/plain": [
       "array(['u_n', 'i_l', 'i_lhl', 'i_h', 'a_l', 'u_h', 'u_l', 'a_lhl', 'a_h',\n",
       "       'i_n', 'a_n', 'u_lhl'], dtype=object)"
      ]
     },
     "execution_count": 11,
     "metadata": {},
     "output_type": "execute_result"
    }
   ],
   "source": [
    "male = {}\n",
    "df = pd.read_json(\"male_metadata.json\")\n",
    "df\n",
    "df['recording_type'].unique()\n",
    "# for col in df:\n",
    "    # print(df[col].unique())"
   ]
  },
  {
   "cell_type": "code",
   "execution_count": 8,
   "id": "ae16ac14-48a2-450e-9beb-af5d87499c14",
   "metadata": {},
   "outputs": [
    {
     "data": {
      "text/plain": [
       "<AxesSubplot:ylabel='Frequency'>"
      ]
     },
     "execution_count": 8,
     "metadata": {},
     "output_type": "execute_result"
    },
    {
     "data": {
      "image/png": "[encoded data removed]",
      "text/plain": [
       "<Figure size 432x288 with 1 Axes>"
      ]
     },
     "metadata": {
      "needs_background": "light"
     },
     "output_type": "display_data"
    }
   ],
   "source": [
    "# df['bins']=pd.cut(df['length'],bins=[0,1,2,3,4,5], labels=[\"0<x<1\",\"1<x<2\",\"2<x<3\",\"3<x<4\",\"x>4\"])\n",
    "# df = df.groupby(['length', 'bins']).size().unstack(fill_value=0)\n",
    "\n",
    "df[df['recording_type'].str.contains('u_lhl')].plot.hist(y='length')"
   ]
  },
  {
   "cell_type": "code",
   "execution_count": null,
   "id": "882ad413-59c3-495d-b40c-1dabd784309b",
   "metadata": {},
   "outputs": [],
   "source": [
    "df.plot.pie(subplots=True,figsize=(8, 3))"
   ]
  },
  {
   "cell_type": "code",
   "execution_count": 4,
   "id": "9501a387-dfa5-44e9-a800-15f2ac5aeda3",
   "metadata": {},
   "outputs": [
    {
     "data": {
      "image/png": "[encoded data removed]",
      "text/plain": [
       "<Figure size 432x288 with 2 Axes>"
      ]
     },
     "metadata": {
      "needs_background": "light"
     },
     "output_type": "display_data"
    }
   ],
   "source": [
    "hist=df[.hist()\n",
    "\n"
   ]
  }
 ],
 "metadata": {
  "kernelspec": {
   "display_name": "Python 3 (ipykernel)",
   "language": "python",
   "name": "python3"
  },
  "language_info": {
   "codemirror_mode": {
    "name": "ipython",
    "version": 3
   },
   "file_extension": ".py",
   "mimetype": "text/x-python",
   "name": "python",
   "nbconvert_exporter": "python",
   "pygments_lexer": "ipython3",
   "version": "3.8.13"
  }
 },
 "nbformat": 4,
 "nbformat_minor": 5
}
