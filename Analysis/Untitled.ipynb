{
 "cells": [
  {
   "cell_type": "code",
   "execution_count": 6,
   "id": "1cbf43f6-2984-415b-8dae-48bdfbeb6294",
   "metadata": {},
   "outputs": [],
   "source": [
    "from os.path import dirname, join as pjoin\n",
    "from scipy.io import wavfile\n",
    "import scipy.io\n",
    "import numpy as np"
   ]
  },
  {
   "cell_type": "code",
   "execution_count": 11,
   "id": "89f92e1f-15aa-4990-826f-86235e427197",
   "metadata": {},
   "outputs": [],
   "source": [
    "data_dir = pjoin(dirname(scipy.io.__file__), 'tests', 'data')\n",
    "wav_fname = pjoin(data_dir, 'test-44100Hz-2ch-32bit-float-be.wav')\n",
    "samplerate, data = wavfile.read(r'/Users/yiftachedelstain/Library/CloudStorage/OneDrive-Technion/Voice Disorder Identification/datasets/SVD - Extended/female/Cancer/Kehlkopftumor/1968-a_h.wav')"
   ]
  }
 ],
 "metadata": {
  "kernelspec": {
   "display_name": "Python 3 (ipykernel)",
   "language": "python",
   "name": "python3"
  },
  "language_info": {
   "codemirror_mode": {
    "name": "ipython",
    "version": 3
   },
   "file_extension": ".py",
   "mimetype": "text/x-python",
   "name": "python",
   "nbconvert_exporter": "python",
   "pygments_lexer": "ipython3",
   "version": "3.8.13"
  }
 },
 "nbformat": 4,
 "nbformat_minor": 5
}
